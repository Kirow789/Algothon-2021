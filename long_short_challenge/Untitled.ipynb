{
 "cells": [
  {
   "cell_type": "code",
   "execution_count": 1,
   "metadata": {},
   "outputs": [],
   "source": [
    "import pandas as pd\n",
    "import numpy as np\n",
    "import seaborn as sns\n",
    "import matplotlib.pyplot as plt\n",
    "import datetime\n",
    "import numpy as np\n",
    "from scipy.stats import norm\n",
    "import random\n",
    "from sklearn import preprocessing\n",
    "from sklearn.ensemble import RandomForestClassifier\n",
    "from sklearn.linear_model import LogisticRegression\n",
    "from sklearn import svm\n",
    "from sklearn.model_selection import train_test_split\n",
    "from sklearn.metrics import confusion_matrix, classification_report"
   ]
  },
  {
   "cell_type": "code",
   "execution_count": 7,
   "metadata": {},
   "outputs": [],
   "source": [
    "asset1 = pd.read_csv('/Users/kirow321/Desktop/Algothon 2021/long_short_challenge/long_short_training_features_targets/sector1_tech/Asset_1_training_data.csv')\n",
    "asset2 = pd.read_csv('/Users/kirow321/Desktop/Algothon 2021/long_short_challenge/long_short_training_features_targets/sector1_tech/Asset_1_training_data.csv')\n",
    "asset3 = pd.read_csv('/Users/kirow321/Desktop/Algothon 2021/long_short_challenge/long_short_training_features_targets/sector1_tech/Asset_1_training_data.csv')\n",
    "asset4 = pd.read_csv('/Users/kirow321/Desktop/Algothon 2021/long_short_challenge/long_short_training_features_targets/sector1_tech/Asset_1_training_data.csv')\n",
    "asset5 = pd.read_csv('/Users/kirow321/Desktop/Algothon 2021/long_short_challenge/long_short_training_features_targets/sector1_tech/Asset_1_training_data.csv')\n"
   ]
  },
  {
   "cell_type": "code",
   "execution_count": 14,
   "metadata": {},
   "outputs": [
    {
     "data": {
      "text/plain": [
       "<matplotlib.axes._subplots.AxesSubplot at 0x1a1d1e3ed0>"
      ]
     },
     "execution_count": 14,
     "metadata": {},
     "output_type": "execute_result"
    },
    {
     "data": {
      "image/png": "[encoded data removed]",
      "text/plain": [
       "<Figure size 432x288 with 1 Axes>"
      ]
     },
     "metadata": {
      "needs_background": "light"
     },
     "output_type": "display_data"
    }
   ],
   "source": [
    "sns.distplot(asset5.target)"
   ]
  },
  {
   "cell_type": "code",
   "execution_count": null,
   "metadata": {},
   "outputs": [],
   "source": []
  }
 ],
 "metadata": {
  "kernelspec": {
   "display_name": "Python 3",
   "language": "python",
   "name": "python3"
  },
  "language_info": {
   "codemirror_mode": {
    "name": "ipython",
    "version": 3
   },
   "file_extension": ".py",
   "mimetype": "text/x-python",
   "name": "python",
   "nbconvert_exporter": "python",
   "pygments_lexer": "ipython3",
   "version": "3.7.4"
  }
 },
 "nbformat": 4,
 "nbformat_minor": 2
}
